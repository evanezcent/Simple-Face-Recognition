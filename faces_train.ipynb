{
 "cells": [
  {
   "cell_type": "code",
   "execution_count": 21,
   "metadata": {},
   "outputs": [],
   "source": [
    "import os\n",
    "from PIL import Image\n",
    "import numpy as np\n",
    "import cv2\n",
    "import pickle\n"
   ]
  },
  {
   "cell_type": "code",
   "execution_count": 23,
   "metadata": {},
   "outputs": [
    {
     "name": "stdout",
     "output_type": "stream",
     "text": [
      "{'swhite': 0, 'taka': 1, 'tama': 2, 'toru': 3}\n"
     ]
    }
   ],
   "source": [
    "BASE_DIR = os.path.dirname(os.path.abspath('__file__'))\n",
    "image_dir = os.path.join(BASE_DIR, \"images\")\n",
    "\n",
    "recognizer = cv2.face.LBPHFaceRecognizer_create()\n",
    "face_cascade = cv2.CascadeClassifier('C:cascades/data/haarcascade_frontalface_alt2.xml')\n",
    "\n",
    "currentId = 0\n",
    "labelID ={}\n",
    "x_train = []\n",
    "y_labels = []\n",
    "\n",
    "for root, dirs, files in os.walk(image_dir):\n",
    "    for file in files:\n",
    "        if file.endswith(\"png\") or file.endswith(\"jpg\"):\n",
    "            path = os.path.join(root, file)\n",
    "            \n",
    "#             os.path.dirname(path) bisa diganti dengan `root`\n",
    "            label = os.path.basename(os.path.dirname(path)).replace(\" \", \"-\").lower()\n",
    "#             print(label, path)\n",
    "            if not label in labelID:\n",
    "                labelID[label] = currentId\n",
    "                currentId +=1\n",
    "            \n",
    "#             id_ = labelID[label]\n",
    "#             print(labelID)\n",
    "            \n",
    "#             x_train.append(path) #Some number\n",
    "#             y_labels.append(label) #Memvefirikasi gambar dan memasikannya pada array numpy, GRAY\n",
    "            pil_image = Image.open(path).convert(\"L\") # convert image ke grayscale\n",
    "#             resize image\n",
    "            size = (550, 550)\n",
    "            final_image =pil_image.resize(size, Image.ANTIALIAS)\n",
    "            image_array = np.array(final_image, \"uint8\")  \n",
    "#             print(image_array)\n",
    "            faces = face_cascade.detectMultiScale(image_array, scaleFactor = 1.5, minNeighbors = 5)\n",
    "            \n",
    "            for (x, y, w, h) in faces :\n",
    "                roi = image_array[y:y+h, x:x+h]\n",
    "                x_train.append(roi)\n",
    "                y_labels.append(id_)\n",
    "            \n",
    "# print(y_labels)\n",
    "# print(x_train)\n",
    "print(labelID)\n",
    "with open(\"labels.pickle\", \"wb\") as f:\n",
    "    pickle.dump(labelID, f)\n",
    "\n",
    "recognizer.train(x_train, np.array(y_labels))\n",
    "recognizer.save(\"trainner.yml\")\n",
    "            "
   ]
  },
  {
   "cell_type": "code",
   "execution_count": 20,
   "metadata": {},
   "outputs": [
    {
     "name": "stdout",
     "output_type": "stream",
     "text": [
      "0\n"
     ]
    }
   ],
   "source": [
    "print(labelID['swhite'])"
   ]
  },
  {
   "cell_type": "code",
   "execution_count": null,
   "metadata": {},
   "outputs": [],
   "source": []
  }
 ],
 "metadata": {
  "kernelspec": {
   "display_name": "Python 3",
   "language": "python",
   "name": "python3"
  },
  "language_info": {
   "codemirror_mode": {
    "name": "ipython",
    "version": 3
   },
   "file_extension": ".py",
   "mimetype": "text/x-python",
   "name": "python",
   "nbconvert_exporter": "python",
   "pygments_lexer": "ipython3",
   "version": "3.7.1"
  }
 },
 "nbformat": 4,
 "nbformat_minor": 2
}
